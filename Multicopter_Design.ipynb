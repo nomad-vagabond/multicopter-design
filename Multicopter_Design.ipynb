{
 "cells": [
  {
   "cell_type": "markdown",
   "id": "cf7f00e8-6b42-4394-91e1-5666df6957aa",
   "metadata": {},
   "source": [
    "### **Multicopter design calculation**"
   ]
  },
  {
   "cell_type": "code",
   "execution_count": 1,
   "id": "c5c55d74-5c73-4d8d-9a1d-0e3d637ba266",
   "metadata": {},
   "outputs": [],
   "source": [
    "import math\n",
    "import numpy as np\n",
    "import pandas as pd\n",
    "import splinecloud_scipy as scsp\n",
    "import matplotlib.pyplot as plt\n",
    "from dataclasses import dataclass\n",
    "%matplotlib inline \n",
    "from scipy.optimize import brentq\n",
    "from scipy.optimize import fmin\n",
    "from pprint import pprint\n",
    "from copy import deepcopy\n",
    "# from scipy.optimize import differential_evolution"
   ]
  },
  {
   "cell_type": "markdown",
   "id": "46f9b295-9f8a-4a2f-b10d-72e984f52b50",
   "metadata": {},
   "source": [
    "### Load data from SplineCloud"
   ]
  },
  {
   "cell_type": "code",
   "execution_count": 2,
   "id": "09342150-c5a5-4085-a890-d03142cca9fd",
   "metadata": {},
   "outputs": [],
   "source": [
    "from components_data import propellers, motors, battery_groups, Propeller, Motor, Battery"
   ]
  },
  {
   "cell_type": "markdown",
   "id": "d64d7f38-0379-47a2-9853-48b169c37b23",
   "metadata": {},
   "source": [
    "### Define Constants"
   ]
  },
  {
   "cell_type": "markdown",
   "id": "5f2a5683-d252-4fb9-9b34-a7aca2c60fb2",
   "metadata": {},
   "source": [
    "Payload mass"
   ]
  },
  {
   "cell_type": "code",
   "execution_count": 3,
   "id": "24fd4f1a-b160-4964-bf05-f9cf05eea9fa",
   "metadata": {},
   "outputs": [],
   "source": [
    "m_payload = 1.5"
   ]
  },
  {
   "cell_type": "markdown",
   "id": "b8fde440-0ada-49c6-b687-88a8a2c27908",
   "metadata": {},
   "source": [
    "Hovering time"
   ]
  },
  {
   "cell_type": "code",
   "execution_count": 4,
   "id": "5034ad61-a313-4f2e-a763-945d3a97934f",
   "metadata": {},
   "outputs": [],
   "source": [
    "t_hover = 0.5 # [hours]\n",
    "t_hover_min = 0.4"
   ]
  },
  {
   "cell_type": "markdown",
   "id": "fcee1a1c-8b50-444f-b4f3-c07d75481455",
   "metadata": {},
   "source": [
    "Maximum discharge ratio"
   ]
  },
  {
   "cell_type": "code",
   "execution_count": 5,
   "id": "be8f5ba0-b3cd-4bcc-bf02-be6566f8b67f",
   "metadata": {},
   "outputs": [],
   "source": [
    "k_discharge = 0.2"
   ]
  },
  {
   "cell_type": "markdown",
   "id": "4a06a8e5-8dbb-4ecd-b984-201d2e364872",
   "metadata": {},
   "source": [
    "Hovering throttle range"
   ]
  },
  {
   "cell_type": "code",
   "execution_count": 6,
   "id": "30b388b3-fb43-42f7-bdb0-4a79ee0c7dd1",
   "metadata": {},
   "outputs": [
    {
     "data": {
      "text/plain": [
       "array([0.4 , 0.45, 0.5 , 0.55, 0.6 ])"
      ]
     },
     "execution_count": 6,
     "metadata": {},
     "output_type": "execute_result"
    }
   ],
   "source": [
    "# hov_throttle_range = np.linspace(0.4, 0.6, 11)\n",
    "hov_throttle_range = np.linspace(0.4, 0.6, 5)\n",
    "hov_throttle_range"
   ]
  },
  {
   "cell_type": "markdown",
   "id": "193e71da-b584-4d90-b8ee-fa2c20dc77d1",
   "metadata": {},
   "source": [
    "Copter mass to the payload mass"
   ]
  },
  {
   "cell_type": "code",
   "execution_count": 7,
   "id": "ebfbc37a-e961-41f6-a92a-b52c79c26125",
   "metadata": {},
   "outputs": [],
   "source": [
    "km_copter = 3.5"
   ]
  },
  {
   "cell_type": "markdown",
   "id": "cc495cbb-6e1b-45b6-bbf4-a488ce46dafe",
   "metadata": {},
   "source": [
    "Total guess mass of the quadcopter"
   ]
  },
  {
   "cell_type": "code",
   "execution_count": 8,
   "id": "47879c70-a78e-4927-acb6-680f7dc33537",
   "metadata": {},
   "outputs": [],
   "source": [
    "m_total = (km_copter+1)*m_payload"
   ]
  },
  {
   "cell_type": "markdown",
   "id": "2f522f72-8fba-4c44-ae9e-91be3ff4ca92",
   "metadata": {},
   "source": [
    "Gravity acceleration"
   ]
  },
  {
   "cell_type": "code",
   "execution_count": 9,
   "id": "4d3e9af5-879a-48dd-813f-ca0096f54830",
   "metadata": {},
   "outputs": [],
   "source": [
    "g = 9.81"
   ]
  },
  {
   "cell_type": "markdown",
   "id": "fb3b0a7b-9ea9-4cfb-bfbd-3a23fe8b2dc3",
   "metadata": {},
   "source": [
    "Console length factor"
   ]
  },
  {
   "cell_type": "code",
   "execution_count": 10,
   "id": "2b3eea80-9cb2-4cce-8d54-99a19091b68c",
   "metadata": {},
   "outputs": [],
   "source": [
    "k_console = 2.5"
   ]
  },
  {
   "cell_type": "markdown",
   "id": "56cb695a-3277-4d2c-9f6f-56291964b956",
   "metadata": {},
   "source": [
    "Number of motors"
   ]
  },
  {
   "cell_type": "code",
   "execution_count": 11,
   "id": "5f9c000e-df0c-4ebf-83a7-c64069929a22",
   "metadata": {},
   "outputs": [],
   "source": [
    "n_motor = 4"
   ]
  },
  {
   "cell_type": "markdown",
   "id": "90831fe5-4834-4d32-b0aa-f524b1c781d2",
   "metadata": {},
   "source": [
    "Single cell voltage"
   ]
  },
  {
   "cell_type": "code",
   "execution_count": 12,
   "id": "f2bd12e6-3ff0-4dba-80f3-6486a044ae50",
   "metadata": {
    "tags": []
   },
   "outputs": [],
   "source": [
    "cell_voltage = 3.7"
   ]
  },
  {
   "cell_type": "markdown",
   "id": "b2416aaa-af55-4b1b-a42a-faaae45626ea",
   "metadata": {},
   "source": [
    "Required hovering thrust per motor"
   ]
  },
  {
   "cell_type": "code",
   "execution_count": 13,
   "id": "b6ee7a28-e218-4049-903a-cb9e15da7c04",
   "metadata": {},
   "outputs": [
    {
     "data": {
      "text/plain": [
       "16.554375"
      ]
     },
     "execution_count": 13,
     "metadata": {},
     "output_type": "execute_result"
    }
   ],
   "source": [
    "F_hover = m_total*g/n_motor\n",
    "F_hover"
   ]
  },
  {
   "cell_type": "markdown",
   "id": "80798726-b618-477d-8352-dc29c2ac9a06",
   "metadata": {},
   "source": [
    "Frame console inner diameter ratio (for round section)"
   ]
  },
  {
   "cell_type": "code",
   "execution_count": 14,
   "id": "229e1a6b-c88a-4ecf-b9c3-ac12c07f05fb",
   "metadata": {},
   "outputs": [],
   "source": [
    "kd_console = 0.9"
   ]
  },
  {
   "cell_type": "markdown",
   "id": "61cfb818-b3a3-4455-84f6-98ec6320bea0",
   "metadata": {},
   "source": [
    "Console length ratio"
   ]
  },
  {
   "cell_type": "code",
   "execution_count": 15,
   "id": "8e07c667-8d84-48c3-a735-060ce98ec9d5",
   "metadata": {},
   "outputs": [],
   "source": [
    "kl_console = 2.5"
   ]
  },
  {
   "cell_type": "markdown",
   "id": "64cad451-563f-4c59-99a0-5b72a27a0be1",
   "metadata": {},
   "source": [
    "Console strength safety factor"
   ]
  },
  {
   "cell_type": "code",
   "execution_count": 16,
   "id": "73ddf25b-7a9e-40df-8497-84745c5d8883",
   "metadata": {},
   "outputs": [],
   "source": [
    "ks_console = 1.2"
   ]
  },
  {
   "cell_type": "markdown",
   "id": "e82e0156-1684-4748-9037-d39b328d3428",
   "metadata": {},
   "source": [
    "Dynamic load factor"
   ]
  },
  {
   "cell_type": "code",
   "execution_count": 17,
   "id": "4fb4fae3-8c58-4a19-b3ec-d08889fc9a85",
   "metadata": {},
   "outputs": [],
   "source": [
    "ks_dyn = 3"
   ]
  },
  {
   "cell_type": "markdown",
   "id": "b30e5295-0069-4ca8-86f1-ce376cccdee9",
   "metadata": {},
   "source": [
    "Yield strength of the console material"
   ]
  },
  {
   "cell_type": "code",
   "execution_count": 18,
   "id": "0561d950-dbbf-4e73-a100-3ca7c4a10a8d",
   "metadata": {},
   "outputs": [],
   "source": [
    "sigma_max = 90*1e6"
   ]
  },
  {
   "cell_type": "markdown",
   "id": "8e77ec26-279c-48f0-bfd4-d5e151f7cc83",
   "metadata": {},
   "source": [
    "Material density"
   ]
  },
  {
   "cell_type": "code",
   "execution_count": 19,
   "id": "ca828f82-c16e-45d9-b063-4746238b18a2",
   "metadata": {},
   "outputs": [],
   "source": [
    "ro_console = 2700 # kg/m^3 (Aluminium)"
   ]
  },
  {
   "cell_type": "markdown",
   "id": "dbdd2249-e775-4139-930a-829730515081",
   "metadata": {},
   "source": [
    "### Design calculation"
   ]
  },
  {
   "cell_type": "markdown",
   "id": "b6e81cb0-f9cb-4542-b803-598e873746b0",
   "metadata": {
    "tags": []
   },
   "source": [
    "#### **Motor selection**"
   ]
  },
  {
   "cell_type": "code",
   "execution_count": 20,
   "id": "df9d879f-8978-4ac0-90ee-a50404931f7e",
   "metadata": {
    "tags": []
   },
   "outputs": [],
   "source": [
    "def select_motor(motors, f_hover, throttle_range):\n",
    "    selected_motor = None\n",
    "    thrust_diff = math.inf\n",
    "    for hov_throttle in throttle_range:\n",
    "        for motor in motors:\n",
    "            thrust = motor.thrust_vs_throttle.eval(hov_throttle)*0.001*g\n",
    "            diff = abs(thrust - f_hover)\n",
    "            if thrust_diff > diff:\n",
    "                thrust_diff = diff\n",
    "                selected_motor = deepcopy(motor)\n",
    "                selected_motor.hov_throttle = hov_throttle\n",
    "\n",
    "    return selected_motor"
   ]
  },
  {
   "cell_type": "code",
   "execution_count": 21,
   "id": "455f1300-6bd3-4120-b7c9-65c0ba93c884",
   "metadata": {},
   "outputs": [
    {
     "data": {
      "text/plain": [
       "'u7v2_kv420_22.2v_15x5cf'"
      ]
     },
     "execution_count": 21,
     "metadata": {},
     "output_type": "execute_result"
    }
   ],
   "source": [
    "motor = select_motor(motors, F_hover, hov_throttle_range)\n",
    "motor.name"
   ]
  },
  {
   "cell_type": "code",
   "execution_count": 22,
   "id": "bcb04504-d0b2-447c-b6ad-06e3ec867573",
   "metadata": {},
   "outputs": [],
   "source": [
    "# hov_throttle"
   ]
  },
  {
   "cell_type": "markdown",
   "id": "71f82456-e71a-48b3-b53e-e8d7e58f5f62",
   "metadata": {
    "tags": []
   },
   "source": [
    "#### **Battery selection**"
   ]
  },
  {
   "cell_type": "code",
   "execution_count": 23,
   "id": "12e8f1f0-cb03-4e70-82f8-260dfde4192b",
   "metadata": {
    "tags": []
   },
   "outputs": [],
   "source": [
    "def select_battery(voltage, current):\n",
    "    n_cells = round(voltage/cell_voltage)\n",
    "    capacity = (n_motor * current * t_hover) / (1-k_discharge)\n",
    "    \n",
    "    selected_battery = None\n",
    "    total_weight = math.inf\n",
    "    n_batteries = range(1, n_motor)\n",
    "    for batgroup in battery_groups.keys():\n",
    "        for cellgroup in battery_groups[batgroup].keys():\n",
    "            snum = int(cellgroup[0])\n",
    "            if snum == int(n_cells):\n",
    "                candidates = battery_groups[batgroup][cellgroup]\n",
    "                for nbat in n_batteries:\n",
    "                    c = 1000*capacity/nbat  \n",
    "                    bcaps = [i for i in range(len(candidates.data.index)) if candidates.data.iloc[i,3] >= c]\n",
    "                    if not bcaps:\n",
    "                        continue\n",
    "                    closest_ind = bcaps[0]\n",
    "                    battery_row = candidates.data.iloc[closest_ind,:]\n",
    "                    w = battery_row.iloc[-1]\n",
    "                    if w*nbat < total_weight:\n",
    "                        total_weight = w*nbat\n",
    "                        selected_battery = Battery(battery_row, nbat)\n",
    "    \n",
    "    return selected_battery"
   ]
  },
  {
   "cell_type": "code",
   "execution_count": 24,
   "id": "934b7c8a-c172-4330-b396-9e511f741091",
   "metadata": {},
   "outputs": [
    {
     "data": {
      "text/plain": [
       "Battery(name=HP-G830C10000S6, capacity=10000, s=6 number=3, total_weight=3699, total_capacity=30000)"
      ]
     },
     "execution_count": 24,
     "metadata": {},
     "output_type": "execute_result"
    }
   ],
   "source": [
    "battery = select_battery(motor.voltage, motor.hover_current)\n",
    "battery"
   ]
  },
  {
   "cell_type": "markdown",
   "id": "fe3f2ef9-6240-4a56-8357-a7f468cfe257",
   "metadata": {},
   "source": [
    "#### **Frame design calculation**"
   ]
  },
  {
   "cell_type": "markdown",
   "id": "156945a1-b745-4959-b569-58c27af2843d",
   "metadata": {},
   "source": [
    "*Console with round section and rectangular central plate*"
   ]
  },
  {
   "cell_type": "code",
   "execution_count": 25,
   "id": "657b3756-c6ff-4114-baf9-ae67348c513e",
   "metadata": {},
   "outputs": [],
   "source": [
    "@dataclass\n",
    "class RoundConsole:\n",
    "    length: float\n",
    "    dout: float\n",
    "    section_area: float\n",
    "    weight: float\n",
    "\n",
    "\n",
    "def design_frame_console(f_hover, d_propeller):\n",
    "    length = d_propeller * kl_console\n",
    "    \n",
    "    dout = np.cbrt((f_hover*length*32*ks_console*ks_dyn)/(sigma_max*math.pi*(1-kd_console**4)))\n",
    "    if dout > 5*1e-3:\n",
    "        dout = math.ceil(dout*1e3)*1e-3\n",
    "    else:\n",
    "        dout = 5*1e-3\n",
    "    \n",
    "    section_area = (math.pi*(dout**2)*(1-kd_console**2))/4\n",
    "    weight = section_area * length * ro_console\n",
    "    \n",
    "    return RoundConsole(length, dout, section_area, weight)"
   ]
  },
  {
   "cell_type": "code",
   "execution_count": 26,
   "id": "3fdd6e06-96dd-438f-9128-ca7b61b267d3",
   "metadata": {},
   "outputs": [
    {
     "data": {
      "text/plain": [
       "RoundConsole(length=0.9525, dout=0.027, section_area=0.00010878549961218052, weight=0.2797691086276253)"
      ]
     },
     "execution_count": 26,
     "metadata": {},
     "output_type": "execute_result"
    }
   ],
   "source": [
    "console = design_frame_console(motor.hover_thrust*g*1e-3, motor.propeller.diameter*0.0254)\n",
    "console"
   ]
  },
  {
   "cell_type": "markdown",
   "id": "0071094e-1572-45c5-a5e3-ff696fc9b3f3",
   "metadata": {},
   "source": [
    "#### **Copter total mass recalculation**"
   ]
  },
  {
   "cell_type": "code",
   "execution_count": 27,
   "id": "76ce1975-811e-4168-bea3-72f05ed79900",
   "metadata": {
    "tags": []
   },
   "outputs": [
    {
     "data": {
      "text/plain": [
       "5064.11907643451"
      ]
     },
     "execution_count": 27,
     "metadata": {},
     "output_type": "execute_result"
    }
   ],
   "source": [
    "m_copter = n_motor*(console.weight + motor.weight + motor.propeller.weight) + battery.total_weight\n",
    "m_copter"
   ]
  },
  {
   "cell_type": "markdown",
   "id": "8db3810b-b60c-436a-85f7-593c98afb891",
   "metadata": {},
   "source": [
    "#### Refined copter reduced weight"
   ]
  },
  {
   "cell_type": "code",
   "execution_count": 28,
   "id": "bf73b3af-62b8-410c-a560-d1f719f11f3b",
   "metadata": {},
   "outputs": [
    {
     "data": {
      "text/plain": [
       "3.3760793842896732"
      ]
     },
     "execution_count": 28,
     "metadata": {},
     "output_type": "execute_result"
    }
   ],
   "source": [
    "km_copter = m_copter*1e-3/m_payload\n",
    "km_copter"
   ]
  },
  {
   "cell_type": "markdown",
   "id": "ab50284f-9367-45e8-a3a7-d28c0130078a",
   "metadata": {},
   "source": [
    "#### **Design optimization**"
   ]
  },
  {
   "cell_type": "code",
   "execution_count": 29,
   "id": "fda8a4ab-d738-46e9-8ba6-d2f58ddb2493",
   "metadata": {},
   "outputs": [],
   "source": [
    "def design_iteration(km_copter_in, iteration=False):\n",
    "    m_total = (km_copter_in + 1) * m_payload\n",
    "    f_hover = m_total*g / n_motor\n",
    "    \n",
    "    motor = select_motor(motors, f_hover, hov_throttle_range)\n",
    "    battery = select_battery(motor.voltage, motor.hover_current)\n",
    "    console = design_frame_console(motor.hover_thrust*g*1e-3, motor.propeller.diameter*0.0254)\n",
    "    \n",
    "    if not all([motor, battery, console]):\n",
    "        if iteration:\n",
    "            return km_copter_in*10\n",
    "        else:\n",
    "            return\n",
    "    \n",
    "    m_copter = n_motor*(console.weight + motor.weight + motor.propeller.weight) + battery.total_weight\n",
    "    \n",
    "    km_copter_out = m_copter*1e-3/m_payload\n",
    "    \n",
    "    res = {'km_copter_in': km_copter_in, \n",
    "           'km_copter_out': km_copter_out,\n",
    "           'km_copter_diff': km_copter_out - km_copter_in,\n",
    "           'm_copter': m_copter,\n",
    "           'motor': motor,\n",
    "           'battery': battery,\n",
    "           'console': console,\n",
    "    }\n",
    "    \n",
    "    if iteration:\n",
    "        return abs(km_copter_out - km_copter_in)\n",
    "    else:\n",
    "        return res"
   ]
  },
  {
   "cell_type": "code",
   "execution_count": 30,
   "id": "cff5a766-cade-4557-ad6f-5b03bf62d628",
   "metadata": {},
   "outputs": [],
   "source": [
    "design_iteration(3.76)"
   ]
  },
  {
   "cell_type": "markdown",
   "id": "f833e4b4-7c20-482f-bb5a-ccd821623729",
   "metadata": {},
   "source": [
    "#### **Find solutions in a range of initial guesses**"
   ]
  },
  {
   "cell_type": "code",
   "execution_count": 31,
   "id": "e67b6901-787f-44c4-b51e-dc557bb467f0",
   "metadata": {},
   "outputs": [
    {
     "name": "stdout",
     "output_type": "stream",
     "text": [
      "Optimization terminated successfully.\n",
      "         Current function value: 0.184923\n",
      "         Iterations: 15\n",
      "         Function evaluations: 30\n",
      "{'km_copter_in': 1.09, 'km_copter_out': 1.274962221558561, 'km_copter_diff': 0.1849622215585609, 'm_copter': 1912.4433323378416, 'motor': Motor(name=u3_kv700_14.8v_12x4cf, voltage=14.8, kv=700, weight=128, propeller=Propeller(name=P12x4 Prop-2PCS/PAIR, diameter=12, width=4.0)), 'battery': Battery(name=HP-G830C5200S4, capacity=5200, s=4 number=3, total_weight=1284, total_capacity=15600), 'console': RoundConsole(length=0.7619999999999999, dout=0.019, section_area=5.3870460027430955e-05, weight=0.11083308446043644)}\n",
      "Optimization terminated successfully.\n",
      "         Current function value: 0.084892\n",
      "         Iterations: 14\n",
      "         Function evaluations: 29\n",
      "{'km_copter_in': 1.594, 'km_copter_out': 1.6793740334993448, 'km_copter_diff': 0.08537403349934469, 'm_copter': 2519.061050249017, 'motor': Motor(name=u7v2_kv280_24v_18x6.1cf, voltage=24, kv=280, weight=299, propeller=Propeller(name=P18x6.1 Prop-2PCS/PAIR, diameter=18, width=6.1)), 'battery': Battery(name=HP-G830C4400S6, capacity=4400, s=6 number=2, total_weight=1070, total_capacity=8800), 'console': RoundConsole(length=1.143, dout=0.024, section_area=8.595397500221671e-05, weight=0.265262562254341)}\n",
      "Optimization terminated successfully.\n",
      "         Current function value: 0.022079\n",
      "         Iterations: 14\n",
      "         Function evaluations: 29\n",
      "{'km_copter_in': 2.14, 'km_copter_out': 1.9834968402411295, 'km_copter_diff': -0.15650315975887064, 'm_copter': 2975.245260361694, 'motor': Motor(name=u7v2_kv280_24v_18x6.1cf, voltage=24, kv=280, weight=299, propeller=Propeller(name=P18x6.1 Prop-2PCS/PAIR, diameter=18, width=6.1)), 'battery': Battery(name=HP-G845C6000S6, capacity=6000, s=6 number=2, total_weight=1526, total_capacity=12000), 'console': RoundConsole(length=1.143, dout=0.026000000000000002, section_area=0.00010087654010676826, weight=0.31131509042349753)}\n",
      "Optimization terminated successfully.\n",
      "         Current function value: 0.000026\n",
      "         Iterations: 12\n",
      "         Function evaluations: 25\n",
      "{'km_copter_in': 2.575, 'km_copter_out': 2.5754045987328555, 'km_copter_diff': 0.00040459873285536574, 'm_copter': 3863.1068980992836, 'motor': Motor(name=u7v2_kv420_22.2v_16x5.4cf, voltage=22.2, kv=420, weight=299, propeller=Propeller(name=P16x5.4 Prop-2PCS/PAIR, diameter=16, width=5.4)), 'battery': Battery(name=HP-G830C10000S6, capacity=10000, s=6 number=2, total_weight=2466, total_capacity=20000), 'console': RoundConsole(length=1.016, dout=0.026000000000000002, section_area=0.00010087654010676826, weight=0.2767245248208867)}\n",
      "Optimization terminated successfully.\n",
      "         Current function value: 0.000019\n",
      "         Iterations: 14\n",
      "         Function evaluations: 28\n",
      "{'km_copter_in': 3.376, 'km_copter_out': 3.3760793842896732, 'km_copter_diff': 7.938428967335653e-05, 'm_copter': 5064.11907643451, 'motor': Motor(name=u7v2_kv420_22.2v_15x5cf, voltage=22.2, kv=420, weight=299, propeller=Propeller(name=P15x5 Prop-2PCS/PAIR, diameter=15, width=5.0)), 'battery': Battery(name=HP-G830C10000S6, capacity=10000, s=6 number=3, total_weight=3699, total_capacity=30000), 'console': RoundConsole(length=0.9525, dout=0.027, section_area=0.00010878549961218052, weight=0.2797691086276253)}\n",
      "Optimization terminated successfully.\n",
      "         Current function value: 0.000019\n",
      "         Iterations: 13\n",
      "         Function evaluations: 26\n",
      "{'km_copter_in': 3.376, 'km_copter_out': 3.3760793842896732, 'km_copter_diff': 7.938428967335653e-05, 'm_copter': 5064.11907643451, 'motor': Motor(name=u7v2_kv420_22.2v_15x5cf, voltage=22.2, kv=420, weight=299, propeller=Propeller(name=P15x5 Prop-2PCS/PAIR, diameter=15, width=5.0)), 'battery': Battery(name=HP-G830C10000S6, capacity=10000, s=6 number=3, total_weight=3699, total_capacity=30000), 'console': RoundConsole(length=0.9525, dout=0.027, section_area=0.00010878549961218052, weight=0.2797691086276253)}\n",
      "Optimization terminated successfully.\n",
      "         Current function value: 0.362634\n",
      "         Iterations: 17\n",
      "         Function evaluations: 34\n",
      "None\n",
      "Optimization terminated successfully.\n",
      "         Current function value: 0.395931\n",
      "         Iterations: 22\n",
      "         Function evaluations: 45\n",
      "{'km_copter_in': 3.911, 'km_copter_out': 3.376135670712991, 'km_copter_diff': -0.534864329287009, 'm_copter': 5064.203506069487, 'motor': Motor(name=u7v2_kv490_22.2v_15x5cf, voltage=22.2, kv=490, weight=299, propeller=Propeller(name=P15x5 Prop-2PCS/PAIR, diameter=15, width=5.0)), 'battery': Battery(name=HP-G830C10000S6, capacity=10000, s=6 number=3, total_weight=3699, total_capacity=30000), 'console': RoundConsole(length=0.9525, dout=0.028, section_area=0.00011699291041968388, weight=0.300876517371822)}\n",
      "Optimization terminated successfully.\n",
      "         Current function value: 0.000019\n",
      "         Iterations: 17\n",
      "         Function evaluations: 36\n",
      "{'km_copter_in': 3.376, 'km_copter_out': 3.3760793842896732, 'km_copter_diff': 7.938428967335653e-05, 'm_copter': 5064.11907643451, 'motor': Motor(name=u7v2_kv420_22.2v_15x5cf, voltage=22.2, kv=420, weight=299, propeller=Propeller(name=P15x5 Prop-2PCS/PAIR, diameter=15, width=5.0)), 'battery': Battery(name=HP-G830C10000S6, capacity=10000, s=6 number=3, total_weight=3699, total_capacity=30000), 'console': RoundConsole(length=0.9525, dout=0.027, section_area=0.00010878549961218052, weight=0.2797691086276253)}\n",
      "Optimization terminated successfully.\n",
      "         Current function value: 0.084831\n",
      "         Iterations: 23\n",
      "         Function evaluations: 49\n",
      "None\n",
      "Optimization terminated successfully.\n",
      "         Current function value: 0.000009\n",
      "         Iterations: 21\n",
      "         Function evaluations: 45\n",
      "{'km_copter_in': 1.853, 'km_copter_out': 1.852505281516475, 'km_copter_diff': -0.0004947184835248919, 'm_copter': 2778.7579222747127, 'motor': Motor(name=u5_kv400_v22.2_14x4.8cf, voltage=22.2, kv=400, weight=195, propeller=Propeller(name=P14x4.8 Prop-2PCS/PAIR, diameter=14, width=4.8)), 'battery': Battery(name=HP-G830C5200S6, capacity=5200, s=6 number=3, total_weight=1878, total_capacity=15600), 'console': RoundConsole(length=0.8889999999999999, dout=0.023, section_area=7.89403694030775e-05, weight=0.1894805686782069)}\n",
      "Optimization terminated successfully.\n",
      "         Current function value: 0.000002\n",
      "         Iterations: 18\n",
      "         Function evaluations: 39\n",
      "{'km_copter_in': 2.575, 'km_copter_out': 2.5754045987328555, 'km_copter_diff': 0.00040459873285536574, 'm_copter': 3863.1068980992836, 'motor': Motor(name=u7v2_kv420_22.2v_16x5.4cf, voltage=22.2, kv=420, weight=299, propeller=Propeller(name=P16x5.4 Prop-2PCS/PAIR, diameter=16, width=5.4)), 'battery': Battery(name=HP-G830C10000S6, capacity=10000, s=6 number=2, total_weight=2466, total_capacity=20000), 'console': RoundConsole(length=1.016, dout=0.026000000000000002, section_area=0.00010087654010676826, weight=0.2767245248208867)}\n",
      "Optimization terminated successfully.\n",
      "         Current function value: 0.022103\n",
      "         Iterations: 24\n",
      "         Function evaluations: 50\n",
      "{'km_copter_in': 2.14, 'km_copter_out': 1.9834968402411295, 'km_copter_diff': -0.15650315975887064, 'm_copter': 2975.245260361694, 'motor': Motor(name=u7v2_kv280_24v_18x6.1cf, voltage=24, kv=280, weight=299, propeller=Propeller(name=P18x6.1 Prop-2PCS/PAIR, diameter=18, width=6.1)), 'battery': Battery(name=HP-G845C6000S6, capacity=6000, s=6 number=2, total_weight=1526, total_capacity=12000), 'console': RoundConsole(length=1.143, dout=0.026000000000000002, section_area=0.00010087654010676826, weight=0.31131509042349753)}\n",
      "Optimization terminated successfully.\n",
      "         Current function value: 0.000041\n",
      "         Iterations: 19\n",
      "         Function evaluations: 40\n",
      "{'km_copter_in': 1.273, 'km_copter_out': 1.27345780613925, 'km_copter_diff': 0.000457806139250172, 'm_copter': 1910.186709208875, 'motor': Motor(name=u3_kv700_14.8v_13x4.4cf, voltage=14.8, kv=700, weight=128, propeller=Propeller(name=P13x4.4 Prop-2PCS/PAIR, diameter=13, width=4.4)), 'battery': Battery(name=HP-G830C5200S4, capacity=5200, s=4 number=3, total_weight=1284, total_capacity=15600), 'console': RoundConsole(length=0.8255, dout=0.021, section_area=6.580851211107218e-05, weight=0.14667730221876324)}\n",
      "Optimization terminated successfully.\n",
      "         Current function value: 0.362634\n",
      "         Iterations: 22\n",
      "         Function evaluations: 45\n",
      "None\n",
      "Optimization terminated successfully.\n",
      "         Current function value: 0.000004\n",
      "         Iterations: 21\n",
      "         Function evaluations: 45\n",
      "{'km_copter_in': 3.376, 'km_copter_out': 3.3760793842896732, 'km_copter_diff': 7.938428967335653e-05, 'm_copter': 5064.11907643451, 'motor': Motor(name=u7v2_kv420_22.2v_15x5cf, voltage=22.2, kv=420, weight=299, propeller=Propeller(name=P15x5 Prop-2PCS/PAIR, diameter=15, width=5.0)), 'battery': Battery(name=HP-G830C10000S6, capacity=10000, s=6 number=3, total_weight=3699, total_capacity=30000), 'console': RoundConsole(length=0.9525, dout=0.027, section_area=0.00010878549961218052, weight=0.2797691086276253)}\n",
      "Optimization terminated successfully.\n",
      "         Current function value: 0.000009\n",
      "         Iterations: 21\n",
      "         Function evaluations: 44\n",
      "{'km_copter_in': 1.853, 'km_copter_out': 1.852505281516475, 'km_copter_diff': -0.0004947184835248919, 'm_copter': 2778.7579222747127, 'motor': Motor(name=u5_kv400_v22.2_14x4.8cf, voltage=22.2, kv=400, weight=195, propeller=Propeller(name=P14x4.8 Prop-2PCS/PAIR, diameter=14, width=4.8)), 'battery': Battery(name=HP-G830C5200S6, capacity=5200, s=6 number=3, total_weight=1878, total_capacity=15600), 'console': RoundConsole(length=0.8889999999999999, dout=0.023, section_area=7.89403694030775e-05, weight=0.1894805686782069)}\n",
      "Optimization terminated successfully.\n",
      "         Current function value: 0.000026\n",
      "         Iterations: 21\n",
      "         Function evaluations: 43\n",
      "{'km_copter_in': 1.273, 'km_copter_out': 1.27345780613925, 'km_copter_diff': 0.000457806139250172, 'm_copter': 1910.186709208875, 'motor': Motor(name=u3_kv700_14.8v_13x4.4cf, voltage=14.8, kv=700, weight=128, propeller=Propeller(name=P13x4.4 Prop-2PCS/PAIR, diameter=13, width=4.4)), 'battery': Battery(name=HP-G830C5200S4, capacity=5200, s=4 number=3, total_weight=1284, total_capacity=15600), 'console': RoundConsole(length=0.8255, dout=0.021, section_area=6.580851211107218e-05, weight=0.14667730221876324)}\n",
      "Optimization terminated successfully.\n",
      "         Current function value: 0.000020\n",
      "         Iterations: 22\n",
      "         Function evaluations: 45\n",
      "{'km_copter_in': 1.273, 'km_copter_out': 1.27345780613925, 'km_copter_diff': 0.000457806139250172, 'm_copter': 1910.186709208875, 'motor': Motor(name=u3_kv700_14.8v_13x4.4cf, voltage=14.8, kv=700, weight=128, propeller=Propeller(name=P13x4.4 Prop-2PCS/PAIR, diameter=13, width=4.4)), 'battery': Battery(name=HP-G830C5200S4, capacity=5200, s=4 number=3, total_weight=1284, total_capacity=15600), 'console': RoundConsole(length=0.8255, dout=0.021, section_area=6.580851211107218e-05, weight=0.14667730221876324)}\n"
     ]
    }
   ],
   "source": [
    "global_solutions = {}\n",
    "for kmcop in np.linspace(1, 10, 19):\n",
    "    converged = fmin(design_iteration, kmcop, args=(True,), full_output=True, disp=1)\n",
    "    if converged[-1] == 0:\n",
    "        km_sol = round(converged[0][0], 3)\n",
    "        res = design_iteration(km_sol)\n",
    "        print(res)\n",
    "        if res and km_sol not in global_solutions.keys():\n",
    "            global_solutions[km_sol] = res"
   ]
  },
  {
   "cell_type": "code",
   "execution_count": 32,
   "id": "39123959-eb4d-48c6-be85-8dfd39c39a95",
   "metadata": {},
   "outputs": [
    {
     "name": "stdout",
     "output_type": "stream",
     "text": [
      "{1.09: {'battery': Battery(name=HP-G830C5200S4, capacity=5200, s=4 number=3, total_weight=1284, total_capacity=15600),\n",
      "        'console': RoundConsole(length=0.7619999999999999,\n",
      "                                dout=0.019,\n",
      "                                section_area=5.3870460027430955e-05,\n",
      "                                weight=0.11083308446043644),\n",
      "        'km_copter_diff': 0.1849622215585609,\n",
      "        'km_copter_in': 1.09,\n",
      "        'km_copter_out': 1.274962221558561,\n",
      "        'm_copter': 1912.4433323378416,\n",
      "        'motor': Motor(name=u3_kv700_14.8v_12x4cf, voltage=14.8, kv=700, weight=128, propeller=Propeller(name=P12x4 Prop-2PCS/PAIR, diameter=12, width=4.0))},\n",
      " 1.273: {'battery': Battery(name=HP-G830C5200S4, capacity=5200, s=4 number=3, total_weight=1284, total_capacity=15600),\n",
      "         'console': RoundConsole(length=0.8255,\n",
      "                                 dout=0.021,\n",
      "                                 section_area=6.580851211107218e-05,\n",
      "                                 weight=0.14667730221876324),\n",
      "         'km_copter_diff': 0.000457806139250172,\n",
      "         'km_copter_in': 1.273,\n",
      "         'km_copter_out': 1.27345780613925,\n",
      "         'm_copter': 1910.186709208875,\n",
      "         'motor': Motor(name=u3_kv700_14.8v_13x4.4cf, voltage=14.8, kv=700, weight=128, propeller=Propeller(name=P13x4.4 Prop-2PCS/PAIR, diameter=13, width=4.4))},\n",
      " 1.594: {'battery': Battery(name=HP-G830C4400S6, capacity=4400, s=6 number=2, total_weight=1070, total_capacity=8800),\n",
      "         'console': RoundConsole(length=1.143,\n",
      "                                 dout=0.024,\n",
      "                                 section_area=8.595397500221671e-05,\n",
      "                                 weight=0.265262562254341),\n",
      "         'km_copter_diff': 0.08537403349934469,\n",
      "         'km_copter_in': 1.594,\n",
      "         'km_copter_out': 1.6793740334993448,\n",
      "         'm_copter': 2519.061050249017,\n",
      "         'motor': Motor(name=u7v2_kv280_24v_18x6.1cf, voltage=24, kv=280, weight=299, propeller=Propeller(name=P18x6.1 Prop-2PCS/PAIR, diameter=18, width=6.1))},\n",
      " 1.853: {'battery': Battery(name=HP-G830C5200S6, capacity=5200, s=6 number=3, total_weight=1878, total_capacity=15600),\n",
      "         'console': RoundConsole(length=0.8889999999999999,\n",
      "                                 dout=0.023,\n",
      "                                 section_area=7.89403694030775e-05,\n",
      "                                 weight=0.1894805686782069),\n",
      "         'km_copter_diff': -0.0004947184835248919,\n",
      "         'km_copter_in': 1.853,\n",
      "         'km_copter_out': 1.852505281516475,\n",
      "         'm_copter': 2778.7579222747127,\n",
      "         'motor': Motor(name=u5_kv400_v22.2_14x4.8cf, voltage=22.2, kv=400, weight=195, propeller=Propeller(name=P14x4.8 Prop-2PCS/PAIR, diameter=14, width=4.8))},\n",
      " 2.14: {'battery': Battery(name=HP-G845C6000S6, capacity=6000, s=6 number=2, total_weight=1526, total_capacity=12000),\n",
      "        'console': RoundConsole(length=1.143,\n",
      "                                dout=0.026000000000000002,\n",
      "                                section_area=0.00010087654010676826,\n",
      "                                weight=0.31131509042349753),\n",
      "        'km_copter_diff': -0.15650315975887064,\n",
      "        'km_copter_in': 2.14,\n",
      "        'km_copter_out': 1.9834968402411295,\n",
      "        'm_copter': 2975.245260361694,\n",
      "        'motor': Motor(name=u7v2_kv280_24v_18x6.1cf, voltage=24, kv=280, weight=299, propeller=Propeller(name=P18x6.1 Prop-2PCS/PAIR, diameter=18, width=6.1))},\n",
      " 2.575: {'battery': Battery(name=HP-G830C10000S6, capacity=10000, s=6 number=2, total_weight=2466, total_capacity=20000),\n",
      "         'console': RoundConsole(length=1.016,\n",
      "                                 dout=0.026000000000000002,\n",
      "                                 section_area=0.00010087654010676826,\n",
      "                                 weight=0.2767245248208867),\n",
      "         'km_copter_diff': 0.00040459873285536574,\n",
      "         'km_copter_in': 2.575,\n",
      "         'km_copter_out': 2.5754045987328555,\n",
      "         'm_copter': 3863.1068980992836,\n",
      "         'motor': Motor(name=u7v2_kv420_22.2v_16x5.4cf, voltage=22.2, kv=420, weight=299, propeller=Propeller(name=P16x5.4 Prop-2PCS/PAIR, diameter=16, width=5.4))},\n",
      " 3.376: {'battery': Battery(name=HP-G830C10000S6, capacity=10000, s=6 number=3, total_weight=3699, total_capacity=30000),\n",
      "         'console': RoundConsole(length=0.9525,\n",
      "                                 dout=0.027,\n",
      "                                 section_area=0.00010878549961218052,\n",
      "                                 weight=0.2797691086276253),\n",
      "         'km_copter_diff': 7.938428967335653e-05,\n",
      "         'km_copter_in': 3.376,\n",
      "         'km_copter_out': 3.3760793842896732,\n",
      "         'm_copter': 5064.11907643451,\n",
      "         'motor': Motor(name=u7v2_kv420_22.2v_15x5cf, voltage=22.2, kv=420, weight=299, propeller=Propeller(name=P15x5 Prop-2PCS/PAIR, diameter=15, width=5.0))},\n",
      " 3.911: {'battery': Battery(name=HP-G830C10000S6, capacity=10000, s=6 number=3, total_weight=3699, total_capacity=30000),\n",
      "         'console': RoundConsole(length=0.9525,\n",
      "                                 dout=0.028,\n",
      "                                 section_area=0.00011699291041968388,\n",
      "                                 weight=0.300876517371822),\n",
      "         'km_copter_diff': -0.534864329287009,\n",
      "         'km_copter_in': 3.911,\n",
      "         'km_copter_out': 3.376135670712991,\n",
      "         'm_copter': 5064.203506069487,\n",
      "         'motor': Motor(name=u7v2_kv490_22.2v_15x5cf, voltage=22.2, kv=490, weight=299, propeller=Propeller(name=P15x5 Prop-2PCS/PAIR, diameter=15, width=5.0))}}\n"
     ]
    }
   ],
   "source": [
    "pprint(global_solutions)"
   ]
  },
  {
   "cell_type": "markdown",
   "id": "c29eaa27-4b75-436c-8bc9-5ca9865d95cf",
   "metadata": {},
   "source": [
    "#### **Design verification**"
   ]
  },
  {
   "cell_type": "code",
   "execution_count": 33,
   "id": "c9b9801d-85b7-4414-884d-d7e07c1dc638",
   "metadata": {},
   "outputs": [],
   "source": [
    "def verify_solution(solution):\n",
    "    ## verify thrust is enough to hover\n",
    "    km, sol = solution\n",
    "    \n",
    "    motor, battery, console = sol[\"motor\"], sol[\"battery\"], sol[\"console\"]\n",
    "    \n",
    "    thrust_verified = False\n",
    "    copter_mass = 1e-3*(battery.total_weight +\n",
    "        n_motor*(console.weight + motor.weight + motor.propeller.weight)\n",
    "    )\n",
    "    \n",
    "    total_copter_weight = (copter_mass + m_payload) * g\n",
    "    thrust_vs_throttle = motor.thrust_vs_throttle\n",
    "\n",
    "    max_throttle_data = max(thrust_vs_throttle.coeffs_x)\n",
    "    min_throttle_data = min(thrust_vs_throttle.coeffs_x)\n",
    "    \n",
    "    max_hov_throttle = min(max(hov_throttle_range), max_throttle_data)\n",
    "    min_hov_throttle = max(min(hov_throttle_range), min_throttle_data)\n",
    "    \n",
    "    max_copter_thrust = thrust_vs_throttle.eval(max_hov_throttle)*0.001*g*n_motor\n",
    "    min_copter_thrust = thrust_vs_throttle.eval(min_hov_throttle)*0.001*g*n_motor\n",
    "    \n",
    "    if not (min_copter_thrust <= total_copter_weight <= max_copter_thrust):\n",
    "        return\n",
    "    \n",
    "    ## verify hover time is sufficient\n",
    "    \n",
    "    ## find exact hover throttle\n",
    "    throttle_root = lambda throt: thrust_vs_throttle.eval(throt)*0.001*g*n_motor - total_copter_weight\n",
    "    hov_throttle = brentq(throttle_root, min_hov_throttle, max_hov_throttle)\n",
    "    \n",
    "    ## calculate hover time\n",
    "    current = motor.current_vs_throttle.eval(hov_throttle)\n",
    "    t_hov = battery.capacity*1e-3 * battery.number * (1-k_discharge) / (n_motor * current)\n",
    "\n",
    "    if t_hov >= t_hover_min:\n",
    "        solstat = {\n",
    "            \"solution\": solution,\n",
    "            \"copter_mass\": copter_mass,\n",
    "            \"total_copter_weight\": total_copter_weight,\n",
    "            \"hov_throttle\": hov_throttle,\n",
    "            \"t_hov\": t_hov,\n",
    "        }\n",
    "    \n",
    "        return solstat"
   ]
  },
  {
   "cell_type": "markdown",
   "id": "1b75a78e-442d-4e18-9a52-409d3a55c4a9",
   "metadata": {},
   "source": [
    "**Verified global solutions**"
   ]
  },
  {
   "cell_type": "code",
   "execution_count": 34,
   "id": "62eddedc-f427-4157-bb6f-89f1a9a67be7",
   "metadata": {},
   "outputs": [],
   "source": [
    "verified_solutions = [s for s in map(verify_solution, global_solutions.items()) if s is not None]"
   ]
  },
  {
   "cell_type": "markdown",
   "id": "05bc0f79-f9db-4998-abc1-4b1efa339b7e",
   "metadata": {},
   "source": [
    "#### **Optimal solution**"
   ]
  },
  {
   "cell_type": "code",
   "execution_count": 35,
   "id": "86fa64b5-8dd3-4120-8c7b-ad5f5efd4fc2",
   "metadata": {},
   "outputs": [
    {
     "data": {
      "text/plain": [
       "{'solution': (1.273,\n",
       "  {'km_copter_in': 1.273,\n",
       "   'km_copter_out': 1.27345780613925,\n",
       "   'km_copter_diff': 0.000457806139250172,\n",
       "   'm_copter': 1910.186709208875,\n",
       "   'motor': Motor(name=u3_kv700_14.8v_13x4.4cf, voltage=14.8, kv=700, weight=128, propeller=Propeller(name=P13x4.4 Prop-2PCS/PAIR, diameter=13, width=4.4)),\n",
       "   'battery': Battery(name=HP-G830C5200S4, capacity=5200, s=4 number=3, total_weight=1284, total_capacity=15600),\n",
       "   'console': RoundConsole(length=0.8255, dout=0.021, section_area=6.580851211107218e-05, weight=0.14667730221876324)}),\n",
       " 'copter_mass': 1.9101867092088751,\n",
       " 'total_copter_weight': 33.453931617339066,\n",
       " 'hov_throttle': 0.5503309520877482,\n",
       " 't_hov': 0.5202606936133145}"
      ]
     },
     "execution_count": 35,
     "metadata": {},
     "output_type": "execute_result"
    }
   ],
   "source": [
    "opt_sol = None\n",
    "copter_mass = math.inf\n",
    "for vs in verified_solutions:\n",
    "    # pprint(s)\n",
    "    if vs['copter_mass'] < copter_mass:\n",
    "        copter_mass = vs['copter_mass']\n",
    "        opt_sol = vs\n",
    "opt_sol"
   ]
  },
  {
   "cell_type": "code",
   "execution_count": null,
   "id": "105fb3df-c4d9-49de-8b32-586210b8177c",
   "metadata": {},
   "outputs": [],
   "source": []
  },
  {
   "cell_type": "code",
   "execution_count": null,
   "id": "cd628b5e-d16d-4807-ae29-10b11cb89819",
   "metadata": {},
   "outputs": [],
   "source": []
  },
  {
   "cell_type": "code",
   "execution_count": null,
   "id": "3f3d331f-f95b-4481-9d6e-11602b525b86",
   "metadata": {},
   "outputs": [],
   "source": []
  },
  {
   "cell_type": "code",
   "execution_count": null,
   "id": "f4f91547-695e-4b47-8212-a8a05d7bef5f",
   "metadata": {},
   "outputs": [],
   "source": []
  },
  {
   "cell_type": "code",
   "execution_count": null,
   "id": "b716f320-7370-4275-9794-bf92b4c38e18",
   "metadata": {},
   "outputs": [],
   "source": []
  },
  {
   "cell_type": "code",
   "execution_count": null,
   "id": "9df28f2a-90bb-4b1b-a87a-420f09471fbf",
   "metadata": {},
   "outputs": [],
   "source": []
  },
  {
   "cell_type": "code",
   "execution_count": null,
   "id": "670b0587-503f-4c87-a6d6-6176e58f560b",
   "metadata": {},
   "outputs": [],
   "source": []
  },
  {
   "cell_type": "code",
   "execution_count": null,
   "id": "60158521-4589-4b7f-bc84-1394da885218",
   "metadata": {},
   "outputs": [],
   "source": []
  },
  {
   "cell_type": "code",
   "execution_count": null,
   "id": "bb7a361a-c7dc-4d77-8db6-59d68795c0ab",
   "metadata": {},
   "outputs": [],
   "source": []
  },
  {
   "cell_type": "code",
   "execution_count": null,
   "id": "19d4d435-31ed-4c7a-847b-ac09d2a55607",
   "metadata": {},
   "outputs": [],
   "source": []
  },
  {
   "cell_type": "code",
   "execution_count": null,
   "id": "7d7fb2dc-1b1d-460d-b3a1-1b627a6199a7",
   "metadata": {},
   "outputs": [],
   "source": []
  }
 ],
 "metadata": {
  "kernelspec": {
   "display_name": "Python 3 (ipykernel)",
   "language": "python",
   "name": "python3"
  },
  "language_info": {
   "codemirror_mode": {
    "name": "ipython",
    "version": 3
   },
   "file_extension": ".py",
   "mimetype": "text/x-python",
   "name": "python",
   "nbconvert_exporter": "python",
   "pygments_lexer": "ipython3",
   "version": "3.10.2"
  }
 },
 "nbformat": 4,
 "nbformat_minor": 5
}
